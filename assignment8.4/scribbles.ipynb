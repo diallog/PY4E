{
 "metadata": {
  "language_info": {
   "codemirror_mode": {
    "name": "ipython",
    "version": 3
   },
   "file_extension": ".py",
   "mimetype": "text/x-python",
   "name": "python",
   "nbconvert_exporter": "python",
   "pygments_lexer": "ipython3",
   "version": "3.9.0-final"
  },
  "orig_nbformat": 2,
  "kernelspec": {
   "name": "python3",
   "display_name": "Python 3"
  }
 },
 "nbformat": 4,
 "nbformat_minor": 2,
 "cells": [
  {
   "cell_type": "code",
   "execution_count": 3,
   "metadata": {},
   "outputs": [
    {
     "output_type": "stream",
     "name": "stdout",
     "text": [
      "But soft what light through yonder window breaks\n\n"
     ]
    }
   ],
   "source": [
    "# this snippet asks for a file, opens it and prints it line by line, each line being a list\n",
    "\n",
    "source_file = input('Enter the name of the file you want to parse: ')\n",
    "fh = open(source_file)\n",
    "\n",
    "print(fh.readline())"
   ]
  },
  {
   "cell_type": "code",
   "execution_count": null,
   "metadata": {},
   "outputs": [],
   "source": [
    "msg = 'But soft what light through yonder window breaks, But then there was change.'\n",
    "msg_list = msg.split()\n",
    "\n",
    "flag = 0\n",
    "\n",
    "# using naive method  \n",
    "# to check all unique list elements \n",
    "for i in range(len(msg_list)): \n",
    "        for i1 in range(len(msg_list)): \n",
    "            if i != i1: \n",
    "                if msg_list[i] == msg_list[i1]: \n",
    "                    flag = 1\n",
    "                    print(flag)\n",
    "\n",
    "# printing result \n",
    "if(not flag) : \n",
    "    print (\"List contains all unique elements\") \n",
    "else :  \n",
    "    print (\"List contains does not contains all unique elements\") "
   ]
  }
 ]
}