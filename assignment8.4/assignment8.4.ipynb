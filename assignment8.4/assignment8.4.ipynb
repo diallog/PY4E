{
 "metadata": {
  "language_info": {
   "codemirror_mode": {
    "name": "ipython",
    "version": 3
   },
   "file_extension": ".py",
   "mimetype": "text/x-python",
   "name": "python",
   "nbconvert_exporter": "python",
   "pygments_lexer": "ipython3",
   "version": "3.9.1-final"
  },
  "orig_nbformat": 2,
  "kernelspec": {
   "name": "python3",
   "display_name": "Python 3",
   "language": "python"
  }
 },
 "nbformat": 4,
 "nbformat_minor": 2,
 "cells": [
  {
   "source": [
    "# Assignment 8.4\n",
    "\n",
    "**Objective:** Open the file romeo.txt and read it line by line. For each line, split the line into a list of words using the split() method. The program should build a list of words. For each word on each line check to see if the word is already in the list and if not append it to the list. When the program completes, sort and print the resulting words in alphabetical order.\n",
    "\n",
    "Final output should be a single list sorted in alphabetical order with no duplicates:\n",
    "```\n",
    "['Arise', 'But', 'It', 'Juliet', 'Who', 'already', 'and', 'breaks', 'east', 'envious', 'fair', 'grief', 'is', 'kill', 'light',\n",
    "'moon', 'pale', 'sick', 'soft', 'sun', 'the', 'through', 'what', 'window', 'with', 'yonder']\n",
    "```"
   ],
   "cell_type": "markdown",
   "metadata": {}
  },
  {
   "cell_type": "code",
   "execution_count": 28,
   "metadata": {},
   "outputs": [
    {
     "output_type": "stream",
     "name": "stdout",
     "text": [
      "<class 'list'>\n['But', 'soft', 'what', 'light', 'through', 'yonder', 'window', 'breaks']\n['It', 'is', 'the', 'east', 'and', 'Juliet', 'is', 'the', 'sun']\n['Arise', 'fair', 'sun', 'and', 'kill', 'the', 'envious', 'moon']\n['Who', 'is', 'already', 'sick', 'and', 'pale', 'with', 'grief']\n"
     ]
    }
   ],
   "source": [
    "# this snippet asks for a file, opens it and prints it line by line, each line being a list\n",
    "\n",
    "# source_file = input('What file to process? ')\n",
    "fh = open('./romeo.txt')\n",
    "full_file = fh.readlines()\n",
    "\n",
    "one_list = list()\n",
    "\n",
    "print(type(one_list))\n",
    "\n",
    "for line in full_file:\n",
    "\tprint(line.split())\n",
    "\t\n",
    "\t# for i in line:\n",
    "\t\t# one_list.append(i)\n",
    "\t# print(one_list)\n"
   ]
  },
  {
   "cell_type": "code",
   "execution_count": null,
   "metadata": {},
   "outputs": [],
   "source": []
  }
 ]
}