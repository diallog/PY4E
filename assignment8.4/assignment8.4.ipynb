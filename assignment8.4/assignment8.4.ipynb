{
 "metadata": {
  "language_info": {
   "codemirror_mode": {
    "name": "ipython",
    "version": 3
   },
   "file_extension": ".py",
   "mimetype": "text/x-python",
   "name": "python",
   "nbconvert_exporter": "python",
   "pygments_lexer": "ipython3",
   "version": "3.9.0-final"
  },
  "orig_nbformat": 2,
  "kernelspec": {
   "name": "python3",
   "display_name": "Python 3"
  }
 },
 "nbformat": 4,
 "nbformat_minor": 2,
 "cells": [
  {
   "source": [
    "# Assignment 8.4\n",
    "\n",
    "**Objective:** Open the file romeo.txt and read it line by line. For each line, split the line into a list of words using the split() method. The program should build a list of words. For each word on each line check to see if the word is already in the list and if not append it to the list. When the program completes, sort and print the resulting words in alphabetical order.\n",
    "\n",
    "Final output should be a single list sorted in alphabetical order with no duplicates:\n",
    "```\n",
    "['Arise', 'But', 'It', 'Juliet', 'Who', 'already', 'and', 'breaks', 'east', 'envious', 'fair', 'grief', 'is', 'kill', 'light',\n",
    "'moon', 'pale', 'sick', 'soft', 'sun', 'the', 'through', 'what', 'window', 'with', 'yonder']\n",
    "```"
   ],
   "cell_type": "markdown",
   "metadata": {}
  },
  {
   "cell_type": "code",
   "execution_count": 7,
   "metadata": {},
   "outputs": [
    {
     "output_type": "stream",
     "name": "stdout",
     "text": [
      "[]\n\n\n['But', 'soft', 'what', 'light', 'through', 'yonder', 'window', 'breaks'], 8\n['It', 'is', 'the', 'east', 'and', 'Juliet', 'is', 'the', 'sun'], 9\n['Arise', 'fair', 'sun', 'and', 'kill', 'the', 'envious', 'moon'], 8\n['Who', 'is', 'already', 'sick', 'and', 'pale', 'with', 'grief'], 8\n"
     ]
    }
   ],
   "source": [
    "# this snippet asks for a file, opens it and prints it line by line, each line being a list\n",
    "\n",
    "source_file = input('Enter the name of the file you want to parse: ')\n",
    "fh = open(source_file)\n",
    "\n",
    "# create a blank list\n",
    "u_list = list()\n",
    "print(\"{}\\n\\n\".format(u_list))\n",
    "\n",
    "for line in fh:\n",
    "\tline = line.split()\n",
    "\t# add line element to u_list\n",
    "\tprint(\"{}, {}\".format(line, len(line)))"
   ]
  },
  {
   "source": [
    "msg = 'But soft what light through yonder window breaks'\n",
    "print(msg)"
   ],
   "cell_type": "code",
   "metadata": {},
   "execution_count": 16,
   "outputs": [
    {
     "output_type": "stream",
     "name": "stdout",
     "text": [
      "But soft what light through yonder window breaks\n"
     ]
    }
   ]
  },
  {
   "cell_type": "code",
   "execution_count": 36,
   "metadata": {},
   "outputs": [
    {
     "output_type": "stream",
     "name": "stdout",
     "text": [
      "['But', 'soft', 'what', 'light', 'through', 'yonder', 'window', 'breaks']\n"
     ]
    }
   ],
   "source": [
    "msg = 'But soft what light through yonder window breaks'\n",
    "msg_list = msg.split()\n",
    "print(msg_list)"
   ]
  },
  {
   "cell_type": "code",
   "execution_count": 46,
   "metadata": {},
   "outputs": [
    {
     "output_type": "stream",
     "name": "stdout",
     "text": [
      "['But', 'soft', 'what', 'light', 'through', 'yonder', 'window', 'breaks']\n['But', 'breaks', 'light', 'soft', 'through', 'what', 'window', 'yonder']\n"
     ]
    }
   ],
   "source": [
    "msg = 'But soft what light through yonder window breaks'\n",
    "msg_list = msg.split()\n",
    "print(msg_list)\n",
    "\n",
    "s_list = sorted(msg_list)\n",
    "print(s_list)"
   ]
  },
  {
   "cell_type": "code",
   "execution_count": 47,
   "metadata": {},
   "outputs": [
    {
     "output_type": "stream",
     "name": "stdout",
     "text": [
      "['But', 'soft', 'what', 'light', 'through', 'yonder', 'window', 'breaks']\n['But', 'breaks', 'light', 'soft', 'through', 'what', 'window', 'yonder']\n"
     ]
    }
   ],
   "source": [
    "msg = 'But soft what light through yonder window breaks'\n",
    "msg_list = msg.split()\n",
    "print(msg_list)\n",
    "\n",
    "msg_list.sort() # NOTE: sort() method sorts list in place\n",
    "print(msg_list)"
   ]
  }
 ]
}