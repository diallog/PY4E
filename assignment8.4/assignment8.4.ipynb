{
 "metadata": {
  "language_info": {
   "codemirror_mode": {
    "name": "ipython",
    "version": 3
   },
   "file_extension": ".py",
   "mimetype": "text/x-python",
   "name": "python",
   "nbconvert_exporter": "python",
   "pygments_lexer": "ipython3",
   "version": "3.9.0-final"
  },
  "orig_nbformat": 2,
  "kernelspec": {
   "name": "python3",
   "display_name": "Python 3"
  }
 },
 "nbformat": 4,
 "nbformat_minor": 2,
 "cells": [
  {
   "source": [
    "# Assignment 8.4\n",
    "\n",
    "**Objective:** Open the file romeo.txt and read it line by line. For each line, split the line into a list of words using the split() method. The program should build a list of words. For each word on each line check to see if the word is already in the list and if not append it to the list. When the program completes, sort and print the resulting words in alphabetical order."
   ],
   "cell_type": "markdown",
   "metadata": {}
  },
  {
   "cell_type": "code",
   "execution_count": 11,
   "metadata": {},
   "outputs": [
    {
     "output_type": "stream",
     "name": "stdout",
     "text": [
      "['But', 'soft', 'what', 'light', 'through', 'yonder', 'window', 'breaks']\n['It', 'is', 'the', 'east', 'and', 'Juliet', 'is', 'the', 'sun']\n['Arise', 'fair', 'sun', 'and', 'kill', 'the', 'envious', 'moon']\n['Who', 'is', 'already', 'sick', 'and', 'pale', 'with', 'grief']\n"
     ]
    }
   ],
   "source": [
    "# open and read file\n",
    "\n",
    "source_file = input('Enter the name of the file you want to parse:')\n",
    "fh = open(source_file)\n",
    "\n",
    "for line in fh:\n",
    "\tline = line.split()\n",
    "\tprint(line)"
   ]
  },
  {
   "source": [
    "msg = 'But soft what light through yonder window breaks'\n",
    "print(msg)"
   ],
   "cell_type": "code",
   "metadata": {},
   "execution_count": 16,
   "outputs": [
    {
     "output_type": "stream",
     "name": "stdout",
     "text": [
      "But soft what light through yonder window breaks\n"
     ]
    }
   ]
  },
  {
   "cell_type": "code",
   "execution_count": 27,
   "metadata": {},
   "outputs": [
    {
     "output_type": "stream",
     "name": "stdout",
     "text": [
      "['But', 'soft', 'what', 'light', 'through', 'yonder', 'window', 'breaks']\n"
     ]
    }
   ],
   "source": [
    "msg = 'But soft what light through yonder window breaks'\n",
    "my_list = list()\n",
    "\n",
    "s_msg = msg.split(\" \")\n",
    "print(s_msg)"
   ]
  }
 ]
}