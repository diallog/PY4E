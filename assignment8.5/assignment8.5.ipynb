{
 "metadata": {
  "language_info": {
   "codemirror_mode": {
    "name": "ipython",
    "version": 3
   },
   "file_extension": ".py",
   "mimetype": "text/x-python",
   "name": "python",
   "nbconvert_exporter": "python",
   "pygments_lexer": "ipython3",
   "version": "3.9.1-final"
  },
  "orig_nbformat": 2,
  "kernelspec": {
   "name": "python3",
   "display_name": "Python 3",
   "language": "python"
  }
 },
 "nbformat": 4,
 "nbformat_minor": 2,
 "cells": [
  {
   "source": [
    "# Assignment 8.5\n",
    "\n",
    "**Objective:** Open the file mbox-short.txt and read it line by line. When you find a line that starts with 'From ' like the following line:\n",
    "\n",
    ">From stephen.marquard@uct.ac.za Sat Jan  5 09:14:16 2008\n",
    "\n",
    "You will parse the From line using split() and print out the second word in the line (i.e. the entire address of the person who sent the message). Then print out a count at the end.\n",
    "\n",
    "*Hint:* make sure not to include the lines that start with 'From:'. Also look at the last line of the sample output to see how to print the count.\n",
    "\n",
    "You can download the sample data at http://www.py4e.com/code3/mbox-short.txt\n",
    "\n",
    "Final output should match:\n",
    "\n",
    "```\n",
    "stephen.marquard@uct.ac.za\n",
    "louis@media.berkeley.edu\n",
    "zqian@umich.edu\n",
    "rjlowe@iupui.edu\n",
    "zqian@umich.edu\n",
    "rjlowe@iupui.edu\n",
    "cwen@iupui.edu\n",
    "cwen@iupui.edu\n",
    "gsilver@umich.edu\n",
    "gsilver@umich.edu\n",
    "zqian@umich.edu\n",
    "gsilver@umich.edu\n",
    "wagnermr@iupui.edu\n",
    "zqian@umich.edu\n",
    "antranig@caret.cam.ac.uk\n",
    "gopal.ramasammycook@gmail.com\n",
    "david.horwitz@uct.ac.za\n",
    "david.horwitz@uct.ac.za\n",
    "david.horwitz@uct.ac.za\n",
    "david.horwitz@uct.ac.za\n",
    "stephen.marquard@uct.ac.za\n",
    "louis@media.berkeley.edu\n",
    "louis@media.berkeley.edu\n",
    "ray@media.berkeley.edu\n",
    "cwen@iupui.edu\n",
    "cwen@iupui.edu\n",
    "cwen@iupui.edu\n",
    "There were 27 lines in the file with From as the first word\n",
    "```\n"
   ],
   "cell_type": "markdown",
   "metadata": {}
  },
  {
   "cell_type": "code",
   "execution_count": 9,
   "metadata": {
    "tags": []
   },
   "outputs": [
    {
     "output_type": "stream",
     "name": "stdout",
     "text": [
      "[0, -1, -1, -1, -1, -1, -1, -1, -1, -1, -1, -1, -1, -1, -1, -1, -1, -1, -1, -1, -1, -1, -1, -1, -1, -1, -1, -1, -1, -1, -1, -1, -1, -1, -1, -1, -1, -1, -1, -1, -1, -1, -1, -1, -1, -1, -1, -1, -1, -1, -1, -1, -1, -1, -1, -1, -1, -1, -1, -1, -1, -1, -1, -1, -1, 0, -1, -1, -1, -1, -1, -1, -1, -1, -1, -1, -1, -1, -1, -1, -1, -1, -1, -1, -1, -1, -1, -1, -1, -1, -1, -1, -1, -1, -1, -1, -1, -1, -1, -1]\n"
     ]
    }
   ],
   "source": [
    "string_to_find = 'From '\n",
    "first_list = list()\n",
    "\n",
    "with open('_mbox-short.txt', 'r') as fh:\n",
    "\n",
    "    for i in fh.readlines():\n",
    "        first_list.append(i.find(string_to_find))\n",
    "\n",
    "print(first_list)\n",
    "\n"
   ]
  },
  {
   "source": [
    "In the above cell, the `find()` method identifies lines where `string_to_find` occurs by 0, and all other lines return -1. May be useful because at least I'll have an indication of \"grab this line\" / \"this line is one that matches\"."
   ],
   "cell_type": "markdown",
   "metadata": {}
  },
  {
   "cell_type": "code",
   "execution_count": 23,
   "metadata": {},
   "outputs": [
    {
     "output_type": "stream",
     "name": "stdout",
     "text": [
      "['From stephen.marquard@uct.ac.za Sat Jan  5 09:14:16 2008\\n', 'From louis@media.berkeley.edu Fri Jan  4 18:10:48 2008\\n', 'From zqian@umich.edu Fri Jan  4 16:10:39 2008\\n', 'From rjlowe@iupui.edu Fri Jan  4 15:46:24 2008\\n', 'From zqian@umich.edu Fri Jan  4 15:03:18 2008\\n', 'From rjlowe@iupui.edu Fri Jan  4 14:50:18 2008\\n', 'From cwen@iupui.edu Fri Jan  4 11:37:30 2008\\n', 'From cwen@iupui.edu Fri Jan  4 11:35:08 2008\\n', 'From gsilver@umich.edu Fri Jan  4 11:12:37 2008\\n', 'From gsilver@umich.edu Fri Jan  4 11:11:52 2008\\n', 'From zqian@umich.edu Fri Jan  4 11:11:03 2008\\n', 'From gsilver@umich.edu Fri Jan  4 11:10:22 2008\\n', 'From wagnermr@iupui.edu Fri Jan  4 10:38:42 2008\\n', 'From zqian@umich.edu Fri Jan  4 10:17:43 2008\\n', 'From antranig@caret.cam.ac.uk Fri Jan  4 10:04:14 2008\\n', 'From gopal.ramasammycook@gmail.com Fri Jan  4 09:05:31 2008\\n', 'From david.horwitz@uct.ac.za Fri Jan  4 07:02:32 2008\\n', 'From david.horwitz@uct.ac.za Fri Jan  4 06:08:27 2008\\n', 'From david.horwitz@uct.ac.za Fri Jan  4 04:49:08 2008\\n', 'From david.horwitz@uct.ac.za Fri Jan  4 04:33:44 2008\\n', 'From stephen.marquard@uct.ac.za Fri Jan  4 04:07:34 2008\\n', 'From louis@media.berkeley.edu Thu Jan  3 19:51:21 2008\\n', 'From louis@media.berkeley.edu Thu Jan  3 17:18:23 2008\\n', 'From ray@media.berkeley.edu Thu Jan  3 17:07:00 2008\\n', 'From cwen@iupui.edu Thu Jan  3 16:34:40 2008\\n', 'From cwen@iupui.edu Thu Jan  3 16:29:07 2008\\n', 'From cwen@iupui.edu Thu Jan  3 16:23:48 2008\\n']\nThere were 27 lines in the file with From as the first word\n"
     ]
    }
   ],
   "source": [
    "string_to_find = 'From '\n",
    "first_list = list()\n",
    "\n",
    "with open('mbox-short.txt', 'r') as fh:\n",
    "\n",
    "    for i in fh.readlines():\n",
    "        if (i.find(string_to_find)) == 0:\n",
    "            first_list.append(i)\n",
    "        else:\n",
    "            continue\n",
    "\n",
    "print(first_list)\n",
    "print(f\"There were {len(first_list)} lines in the file with From as the first word\")"
   ]
  },
  {
   "cell_type": "code",
   "execution_count": 53,
   "metadata": {
    "tags": []
   },
   "outputs": [
    {
     "output_type": "stream",
     "name": "stdout",
     "text": [
      "stephen.marquard@uct.ac.za\nlouis@media.berkeley.edu\nzqian@umich.edu\nrjlowe@iupui.edu\nzqian@umich.edu\nrjlowe@iupui.edu\ncwen@iupui.edu\ncwen@iupui.edu\ngsilver@umich.edu\ngsilver@umich.edu\nzqian@umich.edu\ngsilver@umich.edu\nwagnermr@iupui.edu\nzqian@umich.edu\nantranig@caret.cam.ac.uk\ngopal.ramasammycook@gmail.com\ndavid.horwitz@uct.ac.za\ndavid.horwitz@uct.ac.za\ndavid.horwitz@uct.ac.za\ndavid.horwitz@uct.ac.za\nstephen.marquard@uct.ac.za\nlouis@media.berkeley.edu\nlouis@media.berkeley.edu\nray@media.berkeley.edu\ncwen@iupui.edu\ncwen@iupui.edu\ncwen@iupui.edu\nThere were 27 lines in the file with From as the first word\n"
     ]
    }
   ],
   "source": [
    "string_to_find = 'From '\n",
    "email_list = list()\n",
    "\n",
    "\n",
    "with open('mbox-short.txt', 'r') as fh:\n",
    "\n",
    "    for line in fh.readlines():\n",
    "        line_wo_newline = line.rstrip()\n",
    "        if (line_wo_newline.find(string_to_find)) == 0:\n",
    "            email_list.append(line_wo_newline)\n",
    "        else:\n",
    "            continue\n",
    "\n",
    "\n",
    "for string in email_list:\n",
    "    print(string.split()[1])\n",
    "\n",
    "\n",
    "print(f\"There were {len(email_list)} lines in the file with From as the first word\")"
   ]
  },
  {
   "cell_type": "code",
   "execution_count": null,
   "metadata": {},
   "outputs": [],
   "source": []
  }
 ]
}